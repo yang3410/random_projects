{
 "cells": [
  {
   "cell_type": "markdown",
   "id": "683ccb6a-9277-4fdf-8c21-17880b216a14",
   "metadata": {
    "id": "683ccb6a-9277-4fdf-8c21-17880b216a14"
   },
   "source": [
    "# Fraud Test data\n",
    "\n",
    "Data from https://www.kaggle.com/datasets/kartik2112/fraud-detection"
   ]
  },
  {
   "cell_type": "markdown",
   "id": "e3919976-0735-4304-a850-48a4ea9ecba3",
   "metadata": {
    "id": "e3919976-0735-4304-a850-48a4ea9ecba3"
   },
   "source": [
    "------------------ google colab ---------------------"
   ]
  },
  {
   "cell_type": "code",
   "execution_count": null,
   "id": "n2f2mqvwDH10",
   "metadata": {
    "colab": {
     "base_uri": "https://localhost:8080/"
    },
    "executionInfo": {
     "elapsed": 11862,
     "status": "ok",
     "timestamp": 1753839448582,
     "user": {
      "displayName": "Yang Yang",
      "userId": "04505395149013680450"
     },
     "user_tz": 240
    },
    "id": "n2f2mqvwDH10",
    "outputId": "5b646aa7-c914-4c8f-d96e-802aca6e9883"
   },
   "outputs": [],
   "source": [
    "from google.colab import drive\n",
    "drive.mount('/content/drive')"
   ]
  },
  {
   "cell_type": "code",
   "execution_count": null,
   "id": "3azHyf8JDGGN",
   "metadata": {
    "colab": {
     "base_uri": "https://localhost:8080/"
    },
    "executionInfo": {
     "elapsed": 874,
     "status": "ok",
     "timestamp": 1753839453387,
     "user": {
      "displayName": "Yang Yang",
      "userId": "04505395149013680450"
     },
     "user_tz": 240
    },
    "id": "3azHyf8JDGGN",
    "outputId": "5cf80b7c-b061-4962-e05d-d090589593f5"
   },
   "outputs": [],
   "source": [
    "cd 'drive/MyDrive/deep-learning/Project'"
   ]
  },
  {
   "cell_type": "markdown",
   "id": "528a0cea-f5bc-4e32-948d-d61ba14cc4cf",
   "metadata": {
    "id": "528a0cea-f5bc-4e32-948d-d61ba14cc4cf"
   },
   "source": [
    "-------------------------------------------"
   ]
  },
  {
   "cell_type": "code",
   "execution_count": 2,
   "id": "P2EeNynH22QG",
   "metadata": {
    "executionInfo": {
     "elapsed": 41,
     "status": "ok",
     "timestamp": 1753839945299,
     "user": {
      "displayName": "Yang Yang",
      "userId": "04505395149013680450"
     },
     "user_tz": 240
    },
    "id": "P2EeNynH22QG"
   },
   "outputs": [],
   "source": [
    "import pandas as pd\n",
    "import numpy as np\n",
    "import math\n",
    "import matplotlib.pyplot as plt\n",
    "import torch\n",
    "import torch.nn as nn\n",
    "import torch.optim as optim\n",
    "import numpy as np\n",
    "from sklearn.preprocessing import StandardScaler, MinMaxScaler\n",
    "from sklearn.model_selection import train_test_split\n",
    "from torch.utils.data import TensorDataset, DataLoader\n",
    "from sklearn.metrics import confusion_matrix, f1_score, accuracy_score, roc_auc_score "
   ]
  },
  {
   "cell_type": "markdown",
   "id": "9585ef16-6536-41e8-a15c-9eb532bfa13c",
   "metadata": {
    "id": "9585ef16-6536-41e8-a15c-9eb532bfa13c"
   },
   "source": [
    "## 1. Load data"
   ]
  },
  {
   "cell_type": "code",
   "execution_count": null,
   "id": "c2584b82-dcba-47e2-aaf7-179fd3f085bb",
   "metadata": {
    "colab": {
     "base_uri": "https://localhost:8080/",
     "height": 53
    },
    "executionInfo": {
     "elapsed": 6,
     "status": "ok",
     "timestamp": 1753838572826,
     "user": {
      "displayName": "Yang Yang",
      "userId": "04505395149013680450"
     },
     "user_tz": 240
    },
    "id": "c2584b82-dcba-47e2-aaf7-179fd3f085bb",
    "outputId": "e63e4077-f101-45bb-ebb8-77ca6861a160"
   },
   "outputs": [],
   "source": [
    "'''\n",
    "data = pd.read_csv('ieee-fraud-detection/train_transaction.csv')\n",
    "data.shape # (590540, 394)\n",
    "data.to_pickle('ieee_pickled.pkl')\n",
    "'''"
   ]
  },
  {
   "cell_type": "code",
   "execution_count": null,
   "id": "a545619c-a479-4af6-b361-9d03eb259458",
   "metadata": {
    "colab": {
     "base_uri": "https://localhost:8080/"
    },
    "executionInfo": {
     "elapsed": 3358,
     "status": "ok",
     "timestamp": 1753838776881,
     "user": {
      "displayName": "Yang Yang",
      "userId": "04505395149013680450"
     },
     "user_tz": 240
    },
    "id": "a545619c-a479-4af6-b361-9d03eb259458",
    "outputId": "4c2526b3-b7df-4ae1-b5be-a6327d70d9a9"
   },
   "outputs": [],
   "source": [
    "df = pd.read_pickle('ieee_pickled.pkl')\n",
    "print('data shape', df.shape) # size (590540, 394), second one is label\n",
    "n_positive = sum(df.iloc[:, 1])\n",
    "print('number of fraudulent transactions', n_positive)\n",
    "print('percent fraudulent = ', n_positive/len(df)*100)"
   ]
  },
  {
   "cell_type": "code",
   "execution_count": null,
   "id": "6dfda7d1-9784-47a5-af09-b0ca59779eb0",
   "metadata": {
    "id": "6dfda7d1-9784-47a5-af09-b0ca59779eb0"
   },
   "outputs": [],
   "source": [
    "# From Adrian\n",
    "print(f'Memory footprint is {df.memory_usage(deep=True).sum()/2**20:.2f} MB')\n",
    "\n",
    "print('Typecasting to appropriate data types')\n",
    "for col in df:\n",
    "    if df[col].dtype!=object and col!='TransactionAmt':\n",
    "        df[col]=df[col].fillna(-12)\n",
    "        if df[col].max()<128: df[col] = df[col].astype('int8')\n",
    "        elif df[col].max()<32768: df[col] = df[col].astype('int16')\n",
    "        else: df[col] = df[col].astype('int32')\n",
    "    if col=='TransactionAmt':\n",
    "        df[col] = df[col].astype('float32')\n",
    "\n",
    "print(f'Memory footprint is {df.memory_usage(deep=True).sum()/2**20:.2f} MB')\n",
    "\n",
    "print('Remaining non-int columns are the following:')\n",
    "for col in df.columns:\n",
    "    if df[col].dtype!='int8' and df[col].dtype!='int16' and df[col].dtype!='int32':\n",
    "        print(col,df[col].dtype)"
   ]
  },
  {
   "cell_type": "markdown",
   "id": "I3n7vS00fiyy",
   "metadata": {
    "id": "I3n7vS00fiyy"
   },
   "source": [
    "=================== scratch work ==================<br>\n",
    "TransactionID is just an index, exclude from analysis.<br>\n",
    "TransactionDT some kind of time, can process to get month/day. <br>\n",
    "Day and start_day extracted can be used for userid. <br>\n",
    "\n",
    "The C columns have no missing values."
   ]
  },
  {
   "cell_type": "code",
   "execution_count": null,
   "id": "0A7AIB7Wf01z",
   "metadata": {
    "id": "0A7AIB7Wf01z"
   },
   "outputs": [],
   "source": [
    "Dcolumns = [c for c in data.columns if c[0] == 'D']\n",
    "Ccolumns = [c for c in data.columns if c[0] == 'C']\n",
    "Mcolumns = [c for c in data.columns if c[0] == 'M']\n",
    "Vcolumns = [c for c in data.columns if c[0] == 'V']\n",
    "Cardcolumns = [c for c in data.columns if c.startswith('card')]"
   ]
  },
  {
   "cell_type": "code",
   "execution_count": null,
   "id": "kpstN6uebNw0",
   "metadata": {
    "id": "kpstN6uebNw0"
   },
   "outputs": [],
   "source": [
    "data['day']=data['TransactionDT']//(60*60*24)\n",
    "data['start_date'] = data['day']-data['D1']+10000"
   ]
  },
  {
   "cell_type": "markdown",
   "id": "8d0a8247-3da6-471a-8e2b-4cf88bf54984",
   "metadata": {
    "id": "8d0a8247-3da6-471a-8e2b-4cf88bf54984"
   },
   "source": [
    "=================================================================="
   ]
  },
  {
   "cell_type": "markdown",
   "id": "d3816acb-7e39-47b2-b375-406cac8c5056",
   "metadata": {
    "id": "d3816acb-7e39-47b2-b375-406cac8c5056"
   },
   "source": [
    "### 1.1 (optional) About missing values\n",
    "\n",
    "If Adrian's memory reduction is ran, there would be no missing values in numerical columns"
   ]
  },
  {
   "cell_type": "code",
   "execution_count": null,
   "id": "d3d4e9a9-5653-443f-8670-58c8d3b1e42f",
   "metadata": {
    "colab": {
     "base_uri": "https://localhost:8080/",
     "height": 450
    },
    "executionInfo": {
     "elapsed": 2545,
     "status": "ok",
     "timestamp": 1753838692393,
     "user": {
      "displayName": "Yang Yang",
      "userId": "04505395149013680450"
     },
     "user_tz": 240
    },
    "id": "d3d4e9a9-5653-443f-8670-58c8d3b1e42f",
    "outputId": "d1f6c0d9-b129-4b61-de5b-d83399a643e3"
   },
   "outputs": [],
   "source": [
    "nan_count = df.isna().sum()\n",
    "plt.plot(nan_count)\n",
    "plt.yscale('log')\n",
    "plt.ylabel('number of missing values'), plt.xlabel('features')\n",
    "plt.show()"
   ]
  },
  {
   "cell_type": "code",
   "execution_count": null,
   "id": "873757b9-4dca-4819-b952-f61d2a55728b",
   "metadata": {
    "executionInfo": {
     "elapsed": 7,
     "status": "ok",
     "timestamp": 1753838785487,
     "user": {
      "displayName": "Yang Yang",
      "userId": "04505395149013680450"
     },
     "user_tz": 240
    },
    "id": "873757b9-4dca-4819-b952-f61d2a55728b"
   },
   "outputs": [],
   "source": [
    "col_highmissingvalues = df.columns[nan_count> 0.8*len(df)]\n",
    "\n",
    "'''\n",
    "# with >85% missing values, which is the same if cutoff is 80%: \n",
    "col_highmissingvalues = ['dist2', 'D6', 'D7', 'D8', 'D9', 'D12', 'D13', 'D14', 'V138', 'V139',\n",
    "       'V140', 'V141', 'V142', 'V143', 'V144', 'V145', 'V146', 'V147', 'V148',\n",
    "       'V149', 'V150', 'V151', 'V152', 'V153', 'V154', 'V155', 'V156', 'V157',\n",
    "       'V158', 'V159', 'V160', 'V161', 'V162', 'V163', 'V164', 'V165', 'V166',\n",
    "       'V322', 'V323', 'V324', 'V325', 'V326', 'V327', 'V328', 'V329', 'V330',\n",
    "       'V331', 'V332', 'V333', 'V334', 'V335', 'V336', 'V337', 'V338', 'V339']\n",
    "'''"
   ]
  },
  {
   "cell_type": "markdown",
   "id": "f5e8829d-764a-4846-ab7b-ed23eddad7a3",
   "metadata": {
    "id": "f5e8829d-764a-4846-ab7b-ed23eddad7a3"
   },
   "source": [
    "there are 19 features with no missing values, 52 features with fewer than 100 missing values, 94 features with fewer than 1000 missing values.<br>\n",
    "In the case of < 100 missing values, all columns with missing values share the same 12 indices. 2 of these are fraud.<br>\n",
    "In the case of < 1000 missing values, the missing values lie in 326 different rows. Among these, 19 of them are fraud. This ratio is a bit high."
   ]
  },
  {
   "cell_type": "code",
   "execution_count": null,
   "id": "aee21564-850f-4560-8238-0e48c4289e82",
   "metadata": {
    "id": "aee21564-850f-4560-8238-0e48c4289e82",
    "scrolled": true
   },
   "outputs": [],
   "source": [
    "''' # some stuff about shared nan rows between columns\n",
    "total_missing = []\n",
    "for col in good_col:\n",
    "    missing_idx = data.index[data[col].isna()].tolist()\n",
    "    total_missing.extend(missing_idx)\n",
    "\n",
    "print('number of rows with missing values', len(set(total_missing)))\n",
    "print('fraudulent', sum(data.isFraud[list(set(total_missing))]))\n",
    "\n",
    "data_nomissing = data.drop(set(total_missing))\n",
    "data_label = data_nomissing['isFraud']\n",
    "data_features = data_nomissing.drop(columns=['isFraud'])\n",
    "'''"
   ]
  },
  {
   "cell_type": "code",
   "execution_count": null,
   "id": "08cee417-1926-4c46-bb84-149c37e4cdfe",
   "metadata": {
    "colab": {
     "base_uri": "https://localhost:8080/"
    },
    "executionInfo": {
     "elapsed": 23,
     "status": "ok",
     "timestamp": 1753838931528,
     "user": {
      "displayName": "Yang Yang",
      "userId": "04505395149013680450"
     },
     "user_tz": 240
    },
    "id": "08cee417-1926-4c46-bb84-149c37e4cdfe",
    "outputId": "ba24f467-720e-402c-d73e-b1ecba42825e"
   },
   "outputs": [],
   "source": [
    "df.R_emaildomain.nunique()"
   ]
  },
  {
   "cell_type": "markdown",
   "id": "8a564342-2bc2-4d04-8557-36ec627b78f3",
   "metadata": {
    "id": "8a564342-2bc2-4d04-8557-36ec627b78f3"
   },
   "source": [
    "## 2. Preprocessing: split by feature type\n",
    "Split into numerical and categorial columns.\n",
    "For categorical, use one hot or 1/0.\n",
    "For numerical, normalize."
   ]
  },
  {
   "cell_type": "markdown",
   "id": "c1ca74cd-2888-4ed7-a537-b2f7ef593cbe",
   "metadata": {
    "id": "c1ca74cd-2888-4ed7-a537-b2f7ef593cbe"
   },
   "source": [
    "### 2.1 Features\n",
    "\n",
    "https://www.kaggle.com/c/ieee-fraud-detection/discussion/101203<br>\n",
    "Transaction table<br>\n",
    "“It contains money transfer and also other gifting goods and service, like you booked a ticket for others, etc.”\n",
    "\n",
    "TransactionDT: timedelta from a given reference datetime (not an actual timestamp)\n",
    "“TransactionDT first value is 86400, which corresponds to the number of seconds in a day (60 * 60 * 24 = 86400) so I think the unit is seconds. Using this, we know the data spans 6 months, as the maximum value is 15811131, which would correspond to day 183.”\n",
    "\n",
    "TransactionAMT: transaction payment amount in USD\n",
    "“Some of the transaction amounts have three decimal places to the right of the decimal point. There seems to be a link to three decimal places and a blank addr1 and addr2 field. Is it possible that these are foreign transactions and that, for example, the 75.887 in row 12 is the result of multiplying a foreign currency amount by an exchange rate?”\n",
    "\n",
    "ProductCD: product code, the product for each transaction\n",
    "“Product isn't necessary to be a real 'product' (like one item to be added to the shopping cart). It could be any kind of service.”\n",
    "\n",
    "card1 - card6: payment card information, such as card type, card category, issue bank, country, etc.\n",
    "\n",
    "addr: address<br>\n",
    "“both addresses are for purchaser\n",
    "addr1 as billing region\n",
    "addr2 as billing country”\n",
    "\n",
    "dist: distance<br>\n",
    "\"distances between (not limited) billing address, mailing address, zip code, IP address, phone area, etc.”\n",
    "\n",
    "P_ and (R__) emaildomain: purchaser and recipient email domain\n",
    "“ certain transactions don't need recipient, so R_emaildomain is null.”\n",
    "\n",
    "C1-C14: counting, such as how many addresses are found to be associated with the payment card, etc. The actual meaning is masked.\n",
    "“Can you please give more examples of counts in the variables C1-15? Would these be like counts of phone numbers, email addresses, names associated with the user? I can't think of 15.\n",
    "Your guess is good, plus like device, ipaddr, billingaddr, etc. Also these are for both purchaser and recipient, which doubles the number.”\n",
    "\n",
    "D1-D15: timedelta, such as days between previous transaction, etc.\n",
    "\n",
    "M1-M9: match, such as names on card and address, etc.\n",
    "\n",
    "Vxxx: Vesta engineered rich features, including ranking, counting, and other entity relations.\n",
    "“For example, how many times the payment card associated with a IP and email or address appeared in 24 hours time range, etc.”\n",
    "\"All Vesta features were derived as numerical. some of them are count of orders within a clustering, a time-period or condition, so the value is finite and has ordering (or ranking). I wouldn't recommend to treat any of them as categorical. If any of them resulted in binary by chance, it maybe worth trying.\"\n",
    "\n",
    "Identity Table<br>\n",
    "Variables in this table are identity information – network connection information (IP, ISP, Proxy, etc) and digital signature (UA/browser/os/version, etc) associated with transactions.\n",
    "They're collected by Vesta’s fraud protection system and digital security partners.\n",
    "(The field names are masked and pairwise dictionary will not be provided for privacy protection and contract agreement)\n",
    "\n",
    "DeviceInfo : https://www.kaggle.com/c/ieee-fraud-detection/discussion/101203#583227\n",
    "\n",
    "“id01 to id11 are numerical features for identity, which is collected by Vesta and security partners such as device rating, ip_domain rating, proxy rating, etc. Also it recorded behavioral fingerprint like account login times/failed to login times, how long an account stayed on the page, etc. All of these are not able to elaborate due to security partner T&C. I hope you could get basic meaning of these features, and by mentioning them as numerical/categorical, you won't deal with them inappropriately.”"
   ]
  },
  {
   "cell_type": "markdown",
   "id": "24a03e25-efcd-4e74-b7ee-0f3bdfedf83e",
   "metadata": {
    "id": "24a03e25-efcd-4e74-b7ee-0f3bdfedf83e"
   },
   "source": [
    "====================== scratch ======================"
   ]
  },
  {
   "cell_type": "code",
   "execution_count": null,
   "id": "77c4f501-fc1e-46f9-acc6-34f8d22c94fa",
   "metadata": {
    "id": "77c4f501-fc1e-46f9-acc6-34f8d22c94fa",
    "scrolled": true
   },
   "outputs": [],
   "source": [
    "# compare nested relationship between columns\n",
    "col1 = 'dist1'\n",
    "col2 = 'dist2'\n",
    "\n",
    "print('col1 and col2 have the same missing values ', (data[col1].isna() == data[col2].isna()).all()) # addr1 and addr2 have the same missing values\n",
    "print('number of missing values in col1', data[col1].isna().sum(), 'number of missing values in col2', data[col2].isna().sum())\n",
    "data_cols = data[[col1, col2]]\n",
    "nested = data_cols.groupby(col1)[col2].nunique()\n",
    "print((nested ==1).all())\n",
    "plt.figure(figsize=(3, 2))\n",
    "plt.hist(nested)\n",
    "plt.show()\n",
    "print('number of col1 values that doesn\\'t match to exactly one col2 values: ', nested[nested!=1].count()) # some 35 of addr1 are associated with multiple addr2 values. if these are region vs country, maybe error??\n",
    "# addr1 contains more information than addr2"
   ]
  },
  {
   "cell_type": "markdown",
   "id": "8b5df1b8-200d-45fc-a0ee-d8c2b2bd8a22",
   "metadata": {
    "id": "8b5df1b8-200d-45fc-a0ee-d8c2b2bd8a22"
   },
   "source": [
    "=================================================================="
   ]
  },
  {
   "cell_type": "code",
   "execution_count": null,
   "id": "1a15097d-4e15-4d1c-b26c-2f559dd22bb9",
   "metadata": {
    "executionInfo": {
     "elapsed": 2305,
     "status": "ok",
     "timestamp": 1753838998518,
     "user": {
      "displayName": "Yang Yang",
      "userId": "04505395149013680450"
     },
     "user_tz": 240
    },
    "id": "1a15097d-4e15-4d1c-b26c-2f559dd22bb9",
    "scrolled": true
   },
   "outputs": [],
   "source": [
    "data_label = df.isFraud\n",
    "data_features = df.drop(columns=['isFraud'])\n",
    "\n",
    "# since TransactionDT is an important feature that separates train and test data, it shouldn't be part of training.\n",
    "# TransactionID is just index\n",
    "columns_remove = ['TransactionID', 'TransactionDT', 'addr2', 'P_emaildomain', 'R_emaildomain'] + [c for c in col_highmissingvalues]\n",
    "data_features = data_features.drop(columns=columns_remove)"
   ]
  },
  {
   "cell_type": "code",
   "execution_count": null,
   "id": "838e1399-7a72-474a-a61a-df13b4be6518",
   "metadata": {
    "colab": {
     "base_uri": "https://localhost:8080/",
     "height": 412
    },
    "executionInfo": {
     "elapsed": 172,
     "status": "ok",
     "timestamp": 1753839005812,
     "user": {
      "displayName": "Yang Yang",
      "userId": "04505395149013680450"
     },
     "user_tz": 240
    },
    "id": "838e1399-7a72-474a-a61a-df13b4be6518",
    "outputId": "44b18a26-4ab6-4452-fb47-5d51ee7a24d4"
   },
   "outputs": [],
   "source": [
    "data_features.head(10)"
   ]
  },
  {
   "cell_type": "markdown",
   "id": "41858e3f-6f67-4b54-a435-fd6d6b0c7dcb",
   "metadata": {
    "id": "41858e3f-6f67-4b54-a435-fd6d6b0c7dcb"
   },
   "source": []
  },
  {
   "cell_type": "code",
   "execution_count": null,
   "id": "S7b0jYI6_Tpr",
   "metadata": {
    "colab": {
     "base_uri": "https://localhost:8080/"
    },
    "executionInfo": {
     "elapsed": 646,
     "status": "ok",
     "timestamp": 1753839016300,
     "user": {
      "displayName": "Yang Yang",
      "userId": "04505395149013680450"
     },
     "user_tz": 240
    },
    "id": "S7b0jYI6_Tpr",
    "outputId": "1603a182-2866-4117-d641-bf8be64fda27"
   },
   "outputs": [],
   "source": [
    "# Numerical columns\n",
    "num_cols = data_features.select_dtypes(include=['int32', 'float32', 'int64', 'float64']).columns.tolist()\n",
    "print(\"Numerical columns:\", num_cols)\n",
    "\n",
    "# Categorical columns\n",
    "cat_cols = data_features.select_dtypes(include=['object', 'category']).columns.tolist()\n",
    "print(\"Categorical columns:\", cat_cols)"
   ]
  },
  {
   "cell_type": "markdown",
   "id": "04f52d35-bf26-428e-89f4-5ce6f1bb728c",
   "metadata": {
    "id": "04f52d35-bf26-428e-89f4-5ce6f1bb728c"
   },
   "source": [
    "### 2.1 Preprocessing: categorical features\n",
    "Among categorical columns, ProductCD has 5 values, card4 has 4, card6 has 4, ------> one hot <br>\n",
    "P_emaildomain, R_emaildomain have a lot (59 and 60)<br>\n",
    "M1-M9 except M4 are True False --------> convert to 1/0 <br>\n",
    "M4 has values M0, M2, M1 ----------> numerical 0, 2, 1"
   ]
  },
  {
   "cell_type": "code",
   "execution_count": null,
   "id": "55ab4eeb-a331-4b2b-bddd-6dc45ff23d96",
   "metadata": {
    "executionInfo": {
     "elapsed": 9,
     "status": "ok",
     "timestamp": 1753839033256,
     "user": {
      "displayName": "Yang Yang",
      "userId": "04505395149013680450"
     },
     "user_tz": 240
    },
    "id": "55ab4eeb-a331-4b2b-bddd-6dc45ff23d96"
   },
   "outputs": [],
   "source": [
    "features_expanded = data_features.copy()"
   ]
  },
  {
   "cell_type": "code",
   "execution_count": null,
   "id": "68352d3e-2070-4180-b27c-c6791619814c",
   "metadata": {
    "colab": {
     "base_uri": "https://localhost:8080/",
     "height": 273
    },
    "executionInfo": {
     "elapsed": 7155,
     "status": "ok",
     "timestamp": 1753839042520,
     "user": {
      "displayName": "Yang Yang",
      "userId": "04505395149013680450"
     },
     "user_tz": 240
    },
    "id": "68352d3e-2070-4180-b27c-c6791619814c",
    "outputId": "7afc4dbf-0fa1-4f76-f25d-d8dec8aceb14",
    "scrolled": true
   },
   "outputs": [],
   "source": [
    "for col in cat_cols:\n",
    "    if col[0] == 'M':\n",
    "        if col[1] != 4:\n",
    "            features_expanded[col] = features_expanded[col].map({'T': 1, 'F': 0})\n",
    "        else:\n",
    "            features_expanded[col] = features_expanded[col].map({'M0': 0, 'M1': 1, 'M2':2})\n",
    "    else:\n",
    "        features_expanded = pd.get_dummies(features_expanded, columns=[col], dtype=int)\n",
    "\n",
    "features_expanded.head()"
   ]
  },
  {
   "cell_type": "markdown",
   "id": "0e3450a2-a850-44d6-869c-0e0ab40df48a",
   "metadata": {
    "id": "0e3450a2-a850-44d6-869c-0e0ab40df48a"
   },
   "source": [
    "### 2.2 Preprocessing: scaling numerical features"
   ]
  },
  {
   "cell_type": "code",
   "execution_count": null,
   "id": "34248f5d-dc41-4fed-aeb3-aa5af1998e8f",
   "metadata": {
    "executionInfo": {
     "elapsed": 11273,
     "status": "ok",
     "timestamp": 1753839062153,
     "user": {
      "displayName": "Yang Yang",
      "userId": "04505395149013680450"
     },
     "user_tz": 240
    },
    "id": "34248f5d-dc41-4fed-aeb3-aa5af1998e8f",
    "scrolled": true
   },
   "outputs": [],
   "source": [
    "scaler = MinMaxScaler()\n",
    "features_normalized=features_expanded\n",
    "features_normalized[num_cols] = scaler.fit_transform(features_normalized[num_cols])"
   ]
  },
  {
   "cell_type": "code",
   "execution_count": null,
   "id": "2258c997-4a8a-405d-bb9c-0ed77aaf12bc",
   "metadata": {
    "executionInfo": {
     "elapsed": 5,
     "status": "ok",
     "timestamp": 1753839071958,
     "user": {
      "displayName": "Yang Yang",
      "userId": "04505395149013680450"
     },
     "user_tz": 240
    },
    "id": "2258c997-4a8a-405d-bb9c-0ed77aaf12bc"
   },
   "outputs": [],
   "source": [
    "type(features_normalized)"
   ]
  },
  {
   "cell_type": "markdown",
   "id": "b4050405-38b4-4fd6-a318-75c1153a3a74",
   "metadata": {
    "id": "b4050405-38b4-4fd6-a318-75c1153a3a74"
   },
   "source": [
    "the features can be saved as np array in npy or as a tensor in a pt. The two formats have different variable size but the corresponding saved files have similar size."
   ]
  },
  {
   "cell_type": "code",
   "execution_count": null,
   "id": "39ebf12f-9af6-47c8-8dea-4fdba5ee4c38",
   "metadata": {},
   "outputs": [],
   "source": [
    "torch.save(data_label, 'labels.pt')"
   ]
  },
  {
   "cell_type": "code",
   "execution_count": null,
   "id": "7b095f06-3eb2-45ba-801c-22f002a8478b",
   "metadata": {
    "executionInfo": {
     "elapsed": 55679,
     "status": "ok",
     "timestamp": 1753839140677,
     "user": {
      "displayName": "Yang Yang",
      "userId": "04505395149013680450"
     },
     "user_tz": 240
    },
    "id": "7b095f06-3eb2-45ba-801c-22f002a8478b"
   },
   "outputs": [],
   "source": [
    "np.save('features_normalized_noemail.npy', features_normalized.values)"
   ]
  },
  {
   "cell_type": "markdown",
   "id": "fa457312-7a10-4545-a351-3c5482a5ccb1",
   "metadata": {
    "id": "fa457312-7a10-4545-a351-3c5482a5ccb1"
   },
   "source": [
    "## 3. Autoencoder"
   ]
  },
  {
   "cell_type": "code",
   "execution_count": 3,
   "id": "IfZrsIG7E-UA",
   "metadata": {
    "colab": {
     "base_uri": "https://localhost:8080/"
    },
    "executionInfo": {
     "elapsed": 11,
     "status": "ok",
     "timestamp": 1753839462057,
     "user": {
      "displayName": "Yang Yang",
      "userId": "04505395149013680450"
     },
     "user_tz": 240
    },
    "id": "IfZrsIG7E-UA",
    "outputId": "66ab72a5-d85f-41e9-9766-8551451848aa"
   },
   "outputs": [
    {
     "name": "stdout",
     "output_type": "stream",
     "text": [
      "cpu\n"
     ]
    }
   ],
   "source": [
    "device = torch.device(\"cuda\" if torch.cuda.is_available() else \"cpu\")\n",
    "print(device)"
   ]
  },
  {
   "cell_type": "code",
   "execution_count": 4,
   "id": "91853576-0c78-49e6-a29b-86e3cc4a6a3c",
   "metadata": {
    "executionInfo": {
     "elapsed": 24749,
     "status": "ok",
     "timestamp": 1753839487745,
     "user": {
      "displayName": "Yang Yang",
      "userId": "04505395149013680450"
     },
     "user_tz": 240
    },
    "id": "TIjYhsu-DTmu"
   },
   "outputs": [],
   "source": [
    "labels = torch.load('labels.pt')\n",
    "features_normalized = np.load('features_normalized_noemail.npy')\n",
    "features_normalized = torch.from_numpy(features_normalized)"
   ]
  },
  {
   "cell_type": "code",
   "execution_count": 5,
   "id": "I1ENBsNlTdkF",
   "metadata": {
    "executionInfo": {
     "elapsed": 1397,
     "status": "ok",
     "timestamp": 1753839501176,
     "user": {
      "displayName": "Yang Yang",
      "userId": "04505395149013680450"
     },
     "user_tz": 240
    },
    "id": "I1ENBsNlTdkF"
   },
   "outputs": [],
   "source": [
    "features_no_fraud = features_normalized[labels == 0, :]\n",
    "features_fraud = features_normalized[labels == 1, :]"
   ]
  },
  {
   "cell_type": "code",
   "execution_count": 6,
   "id": "5bfLWzZUDle1",
   "metadata": {
    "id": "5bfLWzZUDle1",
    "scrolled": true
   },
   "outputs": [
    {
     "name": "stdout",
     "output_type": "stream",
     "text": [
      "Variable              Type        Data/Info\n",
      "-------------------------------------------\n",
      "DataLoader            type        <class 'torch.utils.data.dataloader.DataLoader'>\n",
      "MinMaxScaler          type        <class 'sklearn.preproces<...>sing._data.MinMaxScaler'>\n",
      "StandardScaler        type        <class 'sklearn.preproces<...>ng._data.StandardScaler'>\n",
      "TensorDataset         type        <class 'torch.utils.data.dataset.TensorDataset'>\n",
      "accuracy_score        function    <function accuracy_score at 0x00000231F72C4CA0>\n",
      "confusion_matrix      function    <function confusion_matrix at 0x00000231F72C4DC0>\n",
      "device                device      cpu\n",
      "f1_score              function    <function f1_score at 0x00000231F72CB4C0>\n",
      "features_fraud        Tensor      tensor([[0.0139, 0.9926, <...>     dtype=torch.float64)\n",
      "features_no_fraud     Tensor      tensor([[2.1370e-03, 7.43<...>0]], dtype=torch.float64)\n",
      "features_normalized   Tensor      tensor([[2.1370e-03, 7.43<...>0]], dtype=torch.float64)\n",
      "labels                Series      0         0\\n1         0\\<...>gth: 590540, dtype: int64\n",
      "math                  module      <module 'math' (built-in)>\n",
      "nn                    module      <module 'torch.nn' from '<...>\\torch\\\\nn\\\\__init__.py'>\n",
      "np                    module      <module 'numpy' from 'C:\\<...>ges\\\\numpy\\\\__init__.py'>\n",
      "optim                 module      <module 'torch.optim' fro<...>rch\\\\optim\\\\__init__.py'>\n",
      "pd                    module      <module 'pandas' from 'C:<...>es\\\\pandas\\\\__init__.py'>\n",
      "plt                   module      <module 'matplotlib.pyplo<...>\\\\matplotlib\\\\pyplot.py'>\n",
      "roc_auc_score         function    <function roc_auc_score at 0x00000231F72EE280>\n",
      "torch                 module      <module 'torch' from 'C:\\<...>ges\\\\torch\\\\__init__.py'>\n",
      "train_test_split      function    <function train_test_split at 0x00000231F733ED30>\n"
     ]
    }
   ],
   "source": [
    "%whos"
   ]
  },
  {
   "cell_type": "markdown",
   "id": "HaeJXGK1QkUz",
   "metadata": {
    "id": "HaeJXGK1QkUz"
   },
   "source": [
    "### 3.1 Train Test Split"
   ]
  },
  {
   "cell_type": "code",
   "execution_count": 7,
   "id": "C83zri3ZQjGw",
   "metadata": {
    "executionInfo": {
     "elapsed": 3235,
     "status": "ok",
     "timestamp": 1753839512430,
     "user": {
      "displayName": "Yang Yang",
      "userId": "04505395149013680450"
     },
     "user_tz": 240
    },
    "id": "C83zri3ZQjGw"
   },
   "outputs": [],
   "source": [
    "X_train, X_test, y_train, y_test = train_test_split(features_no_fraud, torch.zeros((len(features_no_fraud), 1)), test_size=0.2, random_state=42) # all training samples are nonfraud so no stratify\n",
    "X_train, X_val, y_train, y_val = train_test_split(X_train, y_train, test_size=0.2, random_state=42)\n",
    "X_test = torch.cat((X_train, features_fraud), dim=0)\n",
    "y_test = torch.cat((torch.zeros((len(y_train), 1)), torch.ones((len(features_fraud), 1))), dim=0)"
   ]
  },
  {
   "cell_type": "code",
   "execution_count": 22,
   "id": "1ba8bb2e-ebb6-401e-8edd-d9a706ead6c8",
   "metadata": {},
   "outputs": [
    {
     "data": {
      "text/plain": [
       "343"
      ]
     },
     "execution_count": 22,
     "metadata": {},
     "output_type": "execute_result"
    }
   ],
   "source": [
    "X_val.shape[1]"
   ]
  },
  {
   "cell_type": "code",
   "execution_count": 8,
   "id": "sKBsA3uV1Lzd",
   "metadata": {
    "id": "sKBsA3uV1Lzd"
   },
   "outputs": [],
   "source": [
    "del features_fraud, features_no_fraud, features_normalized, labels"
   ]
  },
  {
   "cell_type": "code",
   "execution_count": 9,
   "id": "S7gysq7Jdb-x",
   "metadata": {
    "executionInfo": {
     "elapsed": 1915,
     "status": "ok",
     "timestamp": 1753839530189,
     "user": {
      "displayName": "Yang Yang",
      "userId": "04505395149013680450"
     },
     "user_tz": 240
    },
    "id": "S7gysq7Jdb-x"
   },
   "outputs": [],
   "source": [
    "# if nan is already filled, mask will just be all 1's. No need to remove\n",
    "mask_val = ~torch.isnan(X_val) # validation set doesn't change so may as well do mask once and for all\n",
    "mask_val = mask_val.to(device) # Move mask to the correct device as well\n",
    "mask_train = ~torch.isnan(X_train)  # True where data is present\n",
    "\n",
    "for col = range(X_val.shape[1])\n",
    "X_val_filled = torch.nan_to_num(X_val, nan=0.0)\n",
    "#X_val_filled = X_val_filled.float().to(device) # val data doesn't go through dataloader so it needs to go on gpu separately\n",
    "\n",
    "X_filled = torch.nan_to_num(X_train, nan=0.0)  # Replace NaNs with 0\n",
    "#X_filled = X_filled.float() # convert to all double (twice precision as float)\n",
    "\n"
   ]
  },
  {
   "cell_type": "markdown",
   "id": "Ieuts8fTvp5H",
   "metadata": {
    "id": "Ieuts8fTvp5H"
   },
   "source": [
    "### 3.2 Autoencoder and training"
   ]
  },
  {
   "cell_type": "code",
   "execution_count": 10,
   "id": "216efe5b-7e88-4747-ba9c-e9c60565de14",
   "metadata": {
    "executionInfo": {
     "elapsed": 6,
     "status": "ok",
     "timestamp": 1753839534777,
     "user": {
      "displayName": "Yang Yang",
      "userId": "04505395149013680450"
     },
     "user_tz": 240
    },
    "id": "216efe5b-7e88-4747-ba9c-e9c60565de14"
   },
   "outputs": [],
   "source": [
    "# Define the autoencoder\n",
    "class Autoencoder(nn.Module): # here the input nn.Module specifies the super class that Autoencoder is in\n",
    "    # we are making an object class by modifying an existing class nn.Module\n",
    "    def __init__(self, input_dim, latent_dim=64):\n",
    "        super().__init__() # calls initialization of nn.Module object\n",
    "        self.encoder = nn.Sequential(\n",
    "            nn.Linear(input_dim, 256),\n",
    "            nn.ReLU(), # this is also a layer but has no weights\n",
    "            nn.Linear(256, 128),\n",
    "            nn.ReLU(),\n",
    "            nn.Linear(128, latent_dim),\n",
    "        )\n",
    "        self.decoder = nn.Sequential(\n",
    "            nn.Linear(latent_dim, 128),\n",
    "            nn.ReLU(),\n",
    "            nn.Linear(128, 256),\n",
    "            nn.ReLU(),\n",
    "            nn.Linear(256, input_dim),\n",
    "        )\n",
    "\n",
    "    def forward(self, x):\n",
    "        latent = self.encoder(x)\n",
    "        return self.decoder(latent)"
   ]
  },
  {
   "cell_type": "code",
   "execution_count": 11,
   "id": "959c9f3b-04cd-4681-aef2-8370010c8ad0",
   "metadata": {
    "executionInfo": {
     "elapsed": 5349,
     "status": "ok",
     "timestamp": 1753839543395,
     "user": {
      "displayName": "Yang Yang",
      "userId": "04505395149013680450"
     },
     "user_tz": 240
    },
    "id": "959c9f3b-04cd-4681-aef2-8370010c8ad0"
   },
   "outputs": [],
   "source": [
    "# Initialize model, optimizer, and loss\n",
    "model = Autoencoder(input_dim=X_filled.shape[1]) # input size has to be number of features\n",
    "model.to(device)\n",
    "optimizer = optim.Adam(model.parameters(), lr=0.001)\n",
    "criterion = nn.MSELoss(reduction='none')  # So we can apply a mask\n"
   ]
  },
  {
   "cell_type": "code",
   "execution_count": 12,
   "id": "c8a8f567-4ce7-4f87-a320-589857200876",
   "metadata": {
    "colab": {
     "base_uri": "https://localhost:8080/"
    },
    "executionInfo": {
     "elapsed": 274569,
     "status": "ok",
     "timestamp": 1753839878971,
     "user": {
      "displayName": "Yang Yang",
      "userId": "04505395149013680450"
     },
     "user_tz": 240
    },
    "id": "c8a8f567-4ce7-4f87-a320-589857200876",
    "outputId": "72cc920a-d56f-40fd-e227-3400dc6cb003"
   },
   "outputs": [
    {
     "name": "stdout",
     "output_type": "stream",
     "text": [
      "Epoch 1, Loss: 0.0040, Validation Loss: 0.0007\n",
      "Epoch 2, Loss: 0.0005, Validation Loss: 0.0004\n",
      "Epoch 3, Loss: 0.0004, Validation Loss: 0.0003\n",
      "Epoch 4, Loss: 0.0003, Validation Loss: 0.0003\n",
      "Epoch 5, Loss: 0.0002, Validation Loss: 0.0002\n",
      "Epoch 6, Loss: 0.0002, Validation Loss: 0.0002\n",
      "Epoch 7, Loss: 0.0002, Validation Loss: 0.0002\n",
      "Epoch 8, Loss: 0.0002, Validation Loss: 0.0002\n",
      "Epoch 9, Loss: 0.0002, Validation Loss: 0.0002\n",
      "Epoch 10, Loss: 0.0002, Validation Loss: 0.0001\n",
      "Epoch 11, Loss: 0.0001, Validation Loss: 0.0001\n",
      "Epoch 12, Loss: 0.0001, Validation Loss: 0.0001\n",
      "Epoch 13, Loss: 0.0001, Validation Loss: 0.0001\n",
      "Epoch 14, Loss: 0.0001, Validation Loss: 0.0001\n",
      "Epoch 15, Loss: 0.0001, Validation Loss: 0.0001\n",
      "Epoch 16, Loss: 0.0001, Validation Loss: 0.0001\n",
      "Epoch 17, Loss: 0.0001, Validation Loss: 0.0001\n",
      "Epoch 18, Loss: 0.0001, Validation Loss: 0.0001\n",
      "Epoch 19, Loss: 0.0001, Validation Loss: 0.0001\n",
      "Epoch 20, Loss: 0.0001, Validation Loss: 0.0001\n",
      "Epoch 21, Loss: 0.0001, Validation Loss: 0.0001\n",
      "Epoch 22, Loss: 0.0001, Validation Loss: 0.0001\n",
      "Epoch 23, Loss: 0.0001, Validation Loss: 0.0001\n",
      "Epoch 24, Loss: 0.0001, Validation Loss: 0.0001\n",
      "Epoch 25, Loss: 0.0001, Validation Loss: 0.0001\n",
      "Epoch 26, Loss: 0.0001, Validation Loss: 0.0001\n",
      "Early stopping at epoch 26, best epoch 26\n"
     ]
    }
   ],
   "source": [
    "\n",
    "\n",
    "# Create a TensorDataset and DataLoader\n",
    "dataset = TensorDataset(X_filled, mask_train)\n",
    "batch_size = 512 # You can adjust this batch size based on your GPU memory\n",
    "dataloader = DataLoader(dataset, batch_size=batch_size, shuffle=True)\n",
    "\n",
    "# early-stopping things\n",
    "min_improvement = 1e-5\n",
    "patience = 5 # 5 do 5 more if not improved\n",
    "epochs_without_improvement = 0\n",
    "lowest_epoch_val_loss = float('inf') # track min loss to get best epoch\n",
    "\n",
    "# Training loop\n",
    "epochs = 60\n",
    "epoch_loss = []\n",
    "epoch_loss_val = []\n",
    "for epoch in range(epochs):\n",
    "    model.train()\n",
    "    total_loss = 0\n",
    "    for batch_X, batch_mask in dataloader:\n",
    "        batch_X, batch_mask = batch_X.to(device), batch_mask.to(device)\n",
    "\n",
    "        optimizer.zero_grad()\n",
    "\n",
    "        output = model(batch_X)\n",
    "        loss_matrix = criterion(output, batch_X)  # [batch, features]\n",
    "        masked_loss = loss_matrix * batch_mask.float()\n",
    "        loss = masked_loss.sum() / batch_mask.sum()  # average over observed values only\n",
    "\n",
    "        loss.backward()\n",
    "        optimizer.step()\n",
    "        total_loss += loss.item() # get value\n",
    "\n",
    "    output = model(X_val_filled)\n",
    "    loss_matrix = criterion(output, X_val_filled)  # [batch, features]\n",
    "    masked_loss = loss_matrix * mask_val\n",
    "    loss_val = masked_loss.sum()/mask_val.sum()\n",
    "    epoch_loss_val.append(loss_val.item())\n",
    "    epoch_loss.append(total_loss/len(dataloader))\n",
    "    print(f\"Epoch {epoch+1}, Loss: {total_loss/len(dataloader):.4f}, Validation Loss: {loss_val.item():.4f}\")\n",
    "    torch.save(model.state_dict(), f'autoencoder_epoch_{epoch+1}.pth')\n",
    "    #print(f\"Saved model state for epoch {epoch+1}\")\n",
    "\n",
    "    if lowest_epoch_val_loss - loss_val.item() > min_improvement: # improvement in val loss\n",
    "        lowest_epoch_val_loss = loss_val.item()\n",
    "        epochs_without_improvement = 0\n",
    "    else:\n",
    "        epochs_without_improvement += 1\n",
    "    if epochs_without_improvement >= patience:\n",
    "        best_epoch = np.argmin(np.array(epoch_loss_val))\n",
    "        print(f\"Early stopping at epoch {epoch+1}, best epoch {best_epoch + 1}\")\n",
    "        break\n"
   ]
  },
  {
   "cell_type": "code",
   "execution_count": 13,
   "id": "2ab9e54a-05c6-4089-bcfc-3c92b75c5bac",
   "metadata": {
    "colab": {
     "base_uri": "https://localhost:8080/",
     "height": 449
    },
    "executionInfo": {
     "elapsed": 362,
     "status": "ok",
     "timestamp": 1753839895872,
     "user": {
      "displayName": "Yang Yang",
      "userId": "04505395149013680450"
     },
     "user_tz": 240
    },
    "id": "2ab9e54a-05c6-4089-bcfc-3c92b75c5bac",
    "outputId": "71aa3ea6-e33e-4e0c-b2f3-e41b88860938"
   },
   "outputs": [
    {
     "data": {
      "image/png": "[encoded data removed]",
      "text/plain": [
       "<Figure size 640x480 with 1 Axes>"
      ]
     },
     "metadata": {},
     "output_type": "display_data"
    }
   ],
   "source": [
    "plt.plot(np.array(epoch_loss))\n",
    "plt.plot(np.array(epoch_loss_val))\n",
    "plt.legend(['train', 'val'])\n",
    "plt.xlabel('epoch')\n",
    "plt.ylabel('loss')\n",
    "plt.show()"
   ]
  },
  {
   "cell_type": "markdown",
   "id": "MelWBYhdviS8",
   "metadata": {
    "id": "MelWBYhdviS8"
   },
   "source": [
    "### 3.3 Performance on test set"
   ]
  },
  {
   "cell_type": "code",
   "execution_count": 14,
   "id": "Wd2ugR3Pwuep",
   "metadata": {
    "colab": {
     "base_uri": "https://localhost:8080/"
    },
    "executionInfo": {
     "elapsed": 30,
     "status": "ok",
     "timestamp": 1753839901595,
     "user": {
      "displayName": "Yang Yang",
      "userId": "04505395149013680450"
     },
     "user_tz": 240
    },
    "id": "Wd2ugR3Pwuep",
    "outputId": "409203b6-5806-4446-ffe6-c5f347efcd58"
   },
   "outputs": [
    {
     "data": {
      "text/plain": [
       "Autoencoder(\n",
       "  (encoder): Sequential(\n",
       "    (0): Linear(in_features=343, out_features=256, bias=True)\n",
       "    (1): ReLU()\n",
       "    (2): Linear(in_features=256, out_features=128, bias=True)\n",
       "    (3): ReLU()\n",
       "    (4): Linear(in_features=128, out_features=64, bias=True)\n",
       "  )\n",
       "  (decoder): Sequential(\n",
       "    (0): Linear(in_features=64, out_features=128, bias=True)\n",
       "    (1): ReLU()\n",
       "    (2): Linear(in_features=128, out_features=256, bias=True)\n",
       "    (3): ReLU()\n",
       "    (4): Linear(in_features=256, out_features=343, bias=True)\n",
       "  )\n",
       ")"
      ]
     },
     "execution_count": 14,
     "metadata": {},
     "output_type": "execute_result"
    }
   ],
   "source": [
    "loaded_model = Autoencoder(input_dim=X_filled.shape[1])\n",
    "\n",
    "# Load the state dictionary\n",
    "loaded_model.load_state_dict(torch.load(f\"autoencoder_epoch_{best_epoch + 1}.pth\"))\n",
    "\n",
    "# Move the loaded model to the desired device (CPU or GPU)\n",
    "loaded_model.to(device)\n",
    "\n",
    "# Now you can use the loaded_model for inference or further training\n",
    "# For example, set it to evaluation mode if you are doing inference\n",
    "loaded_model.eval()"
   ]
  },
  {
   "cell_type": "code",
   "execution_count": 15,
   "id": "39c876d2-07ea-4460-ba00-71b646cbbd2a",
   "metadata": {
    "executionInfo": {
     "elapsed": 2166,
     "status": "ok",
     "timestamp": 1753839906611,
     "user": {
      "displayName": "Yang Yang",
      "userId": "04505395149013680450"
     },
     "user_tz": 240
    },
    "id": "39c876d2-07ea-4460-ba00-71b646cbbd2a"
   },
   "outputs": [],
   "source": [
    "#mask_test = !~torch.isna(X_test).float()\n",
    "X_test_filled = torch.nan_to_num(X_test, nan = 0.0).float()\n",
    "\n",
    "output_test = loaded_model(X_test_filled.to(device))\n",
    "error = criterion(output_test.cpu(), X_test_filled)\n",
    "point_error = torch.mean(error, dim=1)"
   ]
  },
  {
   "cell_type": "code",
   "execution_count": 16,
   "id": "a63abf5f-f37e-4057-ab22-2ded1bc9ede1",
   "metadata": {
    "colab": {
     "base_uri": "https://localhost:8080/",
     "height": 449
    },
    "executionInfo": {
     "elapsed": 529,
     "status": "ok",
     "timestamp": 1753839909092,
     "user": {
      "displayName": "Yang Yang",
      "userId": "04505395149013680450"
     },
     "user_tz": 240
    },
    "id": "a63abf5f-f37e-4057-ab22-2ded1bc9ede1",
    "outputId": "4fe15621-2bae-4d61-9363-9d19e45704ec"
   },
   "outputs": [
    {
     "data": {
      "image/png": "[encoded data removed]",
      "text/plain": [
       "<Figure size 640x480 with 1 Axes>"
      ]
     },
     "metadata": {},
     "output_type": "display_data"
    }
   ],
   "source": [
    "plt.plot(point_error.detach().numpy())\n",
    "plt.xlabel('point')\n",
    "plt.ylabel('error')\n",
    "plt.show()"
   ]
  },
  {
   "cell_type": "code",
   "execution_count": null,
   "id": "o9VeZd5g2cj8",
   "metadata": {
    "id": "o9VeZd5g2cj8"
   },
   "outputs": [],
   "source": [
    "\n",
    "\n",
    "'''\n",
    "# Make sure they are on CPU and convert to numpy arrays if necessary for sklearn\n",
    "y_true_np = y_test.cpu().numpy() if isinstance(y_test, torch.Tensor) else y_test\n",
    "y_pred_np = pred_fraud.cpu().numpy() if isinstance(pred_fraud, torch.Tensor) else pred_fraud\n",
    "\n",
    "# Calculate the confusion matrix\n",
    "cm = confusion_matrix(y_true_np, y_pred_np)\n",
    "\n",
    "print(\"Confusion Matrix:\")\n",
    "print(cm)\n",
    "\n",
    "# The confusion matrix is typically structured as:\n",
    "# [[True Negatives (TN), False Positives (FP)]\n",
    "#  [False Negatives (FN), True Positives (TP)]]\n",
    "\n",
    "# You can extract these values:\n",
    "tn, fp, fn, tp = cm.ravel()\n",
    "\n",
    "print(f\"\\nTrue Negatives (TN): {tn}\")\n",
    "print(f\"False Positives (FP): {fp}\")\n",
    "print(f\"False Negatives (FN): {fn}\")\n",
    "print(f\"True Positives (TP): {tp}\")'''"
   ]
  },
  {
   "cell_type": "code",
   "execution_count": null,
   "id": "RsnYpm1z1N1R",
   "metadata": {
    "colab": {
     "base_uri": "https://localhost:8080/"
    },
    "executionInfo": {
     "elapsed": 14478,
     "status": "ok",
     "timestamp": 1753839965031,
     "user": {
      "displayName": "Yang Yang",
      "userId": "04505395149013680450"
     },
     "user_tz": 240
    },
    "id": "RsnYpm1z1N1R",
    "outputId": "47bb4b9c-f147-42e4-efe6-b9d2c300cfbf"
   },
   "outputs": [],
   "source": [
    "for threshold in np.arange(0.05, 0.2, 0.01):\n",
    "    pred_fraud = torch.where(point_error > threshold, 1, 0) # if > threshold, mark as 1, else mark as 0\n",
    "    print(f\"threshold: {threshold:.2f}\")\n",
    "    print(confusion_matrix(y_test.cpu().numpy(), pred_fraud.cpu().numpy()))\n",
    "    print(f\"f1: {f1_score(y_test.cpu().numpy(), pred_fraud.cpu().numpy())}\")\n"
   ]
  },
  {
   "cell_type": "code",
   "execution_count": 19,
   "id": "0ir4TKX12bCn",
   "metadata": {
    "id": "0ir4TKX12bCn"
   },
   "outputs": [
    {
     "name": "stdout",
     "output_type": "stream",
     "text": [
      "0.6433656387300791\n"
     ]
    }
   ],
   "source": [
    "print(roc_auc_score(y_test, point_error.detach().numpy()))"
   ]
  },
  {
   "cell_type": "code",
   "execution_count": null,
   "id": "o-kmJK4Z2aCp",
   "metadata": {
    "id": "o-kmJK4Z2aCp"
   },
   "outputs": [],
   "source": []
  },
  {
   "cell_type": "markdown",
   "id": "GRoprm-2NJlQ",
   "metadata": {
    "id": "GRoprm-2NJlQ"
   },
   "source": [
    "If need to clear up cached memory"
   ]
  },
  {
   "cell_type": "code",
   "execution_count": null,
   "id": "0f1a04dd",
   "metadata": {
    "colab": {
     "base_uri": "https://localhost:8080/"
    },
    "executionInfo": {
     "elapsed": 14,
     "status": "ok",
     "timestamp": 1753839225202,
     "user": {
      "displayName": "Yang Yang",
      "userId": "04505395149013680450"
     },
     "user_tz": 240
    },
    "id": "0f1a04dd",
    "outputId": "292b79bf-7c74-4ec8-82a1-35d3a4beaee7"
   },
   "outputs": [],
   "source": [
    "import gc\n",
    "import torch\n",
    "\n",
    "# Example: assuming you have a large tensor 'large_tensor' on the GPU\n",
    "# del large_tensor\n",
    "\n",
    "# Run Python's garbage collector\n",
    "gc.collect()\n",
    "\n",
    "# Empty the PyTorch CUDA cache\n",
    "torch.cuda.empty_cache()\n",
    "\n",
    "print(\"GPU memory freed.\")"
   ]
  },
  {
   "cell_type": "code",
   "execution_count": null,
   "id": "aiMFxGri2Ywo",
   "metadata": {
    "id": "aiMFxGri2Ywo"
   },
   "outputs": [],
   "source": []
  },
  {
   "cell_type": "markdown",
   "id": "d74d2907",
   "metadata": {
    "id": "d74d2907"
   },
   "source": [
    "To load a saved model state, you can do the following:"
   ]
  },
  {
   "cell_type": "code",
   "execution_count": 32,
   "id": "5hldNpou575G",
   "metadata": {
    "id": "5hldNpou575G"
   },
   "outputs": [],
   "source": [
    "data = {\n",
    "    'Xtrain': X_filled,\n",
    "    'Masktrain': mask_train, \n",
    "    'Xval': X_val_filled, \n",
    "    'Maskval': mask_val,\n",
    "    'Xtest': X_test_filled\n",
    "}"
   ]
  },
  {
   "cell_type": "code",
   "execution_count": 33,
   "id": "Beu1V-xv6XRm",
   "metadata": {
    "id": "Beu1V-xv6XRm"
   },
   "outputs": [],
   "source": [
    "torch.save(data, 'train_test_data.pt')"
   ]
  }
 ],
 "metadata": {
  "accelerator": "GPU",
  "colab": {
   "collapsed_sections": [
    "8a564342-2bc2-4d04-8557-36ec627b78f3"
   ],
   "gpuType": "T4",
   "provenance": []
  },
  "kernelspec": {
   "display_name": "Python 3 (ipykernel)",
   "language": "python",
   "name": "python3"
  },
  "language_info": {
   "codemirror_mode": {
    "name": "ipython",
    "version": 3
   },
   "file_extension": ".py",
   "mimetype": "text/x-python",
   "name": "python",
   "nbconvert_exporter": "python",
   "pygments_lexer": "ipython3",
   "version": "3.9.21"
  }
 },
 "nbformat": 4,
 "nbformat_minor": 5
}
